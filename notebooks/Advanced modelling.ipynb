{
 "cells": [
  {
   "cell_type": "markdown",
   "id": "55a33a49-9597-4977-89b0-bb133c1d4e64",
   "metadata": {},
   "source": [
    "# Advanced Modelling\n",
    "\n",
    "Building on our baseline models, we will build more regorously through cross validation and hyper parameter optimization. In this notebook, we will cross validate on our logistic regression model and random forest model. We will also explore AdaBoost classifier on our dataset"
   ]
  },
  {
   "cell_type": "code",
   "execution_count": 90,
   "id": "af08091b-2180-4b02-82fe-9abc55dc3e13",
   "metadata": {},
   "outputs": [],
   "source": [
    "import numpy as np\n",
    "import pandas as pd\n",
    "import matplotlib.pyplot as plt\n",
    "import seaborn as sns\n",
    "\n",
    "from sklearn.ensemble import RandomForestClassifier, AdaBoostClassifier, GradientBoostingClassifier\n",
    "from sklearn.model_selection import cross_val_score, GridSearchCV, train_test_split\n",
    "from sklearn.preprocessing import StandardScaler\n",
    "from sklearn.linear_model import LogisticRegression\n",
    "from sklearn.metrics import accuracy_score, confusion_matrix, classification_report, ConfusionMatrixDisplay"
   ]
  },
  {
   "cell_type": "code",
   "execution_count": 8,
   "id": "ab1d585c-7f6f-4a2d-87be-8dbe38e4fb6d",
   "metadata": {},
   "outputs": [],
   "source": [
    "df_final = pd.read_csv(\"Wii_final.csv\")"
   ]
  },
  {
   "cell_type": "code",
   "execution_count": 10,
   "id": "0e34dba3-da78-4a0c-926f-f4809529c3be",
   "metadata": {},
   "outputs": [],
   "source": [
    "df_final = df_final.drop('Unnamed: 0', axis=1)"
   ]
  },
  {
   "cell_type": "code",
   "execution_count": 11,
   "id": "3ac4edcb-93a8-4809-82d2-b8f22283ce0f",
   "metadata": {},
   "outputs": [
    {
     "name": "stdout",
     "output_type": "stream",
     "text": [
      "<class 'pandas.core.frame.DataFrame'>\n",
      "RangeIndex: 200 entries, 0 to 199\n",
      "Data columns (total 24 columns):\n",
      " #   Column                                        Non-Null Count  Dtype  \n",
      "---  ------                                        --------------  -----  \n",
      " 0   label                                         200 non-null    int64  \n",
      " 1   age                                           200 non-null    int64  \n",
      " 2   sex                                           200 non-null    int64  \n",
      " 3   grip_r1                                       200 non-null    float64\n",
      " 4   grip_l1                                       200 non-null    float64\n",
      " 5   health_rating                                 200 non-null    int64  \n",
      " 6   crouching_difficulty                          200 non-null    int64  \n",
      " 7   lifting_difficulty                            200 non-null    int64  \n",
      " 8   reaching_overhead_difficulty                  200 non-null    int64  \n",
      " 9   walking_difficulty                            200 non-null    int64  \n",
      " 10  difficult_short_walking                       200 non-null    int64  \n",
      " 11  difficult_light_housework                     200 non-null    int64  \n",
      " 12  difficult_bathing                             200 non-null    int64  \n",
      " 13  has_fallen                                    200 non-null    int64  \n",
      " 14  has_near_fallen                               200 non-null    int64  \n",
      " 15  near_fall_count                               200 non-null    int64  \n",
      " 16  trial_1_eyes_closed_feet_apart_velocity_0_1   200 non-null    float64\n",
      " 17  trial_1_eyes_closed_feet_apart_velocity_0_2   200 non-null    float64\n",
      " 18  trial_1_eyes_closed_feet_apart_velocity_0_3   200 non-null    float64\n",
      " 19  trial_2_eyes_open_feet_together_velocity_0_1  200 non-null    float64\n",
      " 20  trial_2_eyes_open_feet_together_velocity_0_2  200 non-null    float64\n",
      " 21  trial_2_eyes_open_feet_together_velocity_0_3  200 non-null    float64\n",
      " 22  avg_grip_strength                             200 non-null    float64\n",
      " 23  grip_difference                               200 non-null    float64\n",
      "dtypes: float64(10), int64(14)\n",
      "memory usage: 37.6 KB\n"
     ]
    }
   ],
   "source": [
    "df_final.info()"
   ]
  },
  {
   "cell_type": "code",
   "execution_count": 29,
   "id": "9dc7be6f-65a8-459d-94b1-4c36b75a4d22",
   "metadata": {},
   "outputs": [],
   "source": [
    "# Defining our X and y variables \n",
    "X = df_final[[\"grip_l1\", \"avg_grip_strength\", \"grip_difference\", \\\n",
    "              \"has_near_fallen\", \"health_rating\", \"walking_difficulty\", \"age\"\n",
    "             ]]\n",
    "y = df_final[\"has_fallen\"]"
   ]
  },
  {
   "cell_type": "code",
   "execution_count": 30,
   "id": "b6429318-ecb4-4e36-aaa7-38be867b2c50",
   "metadata": {},
   "outputs": [],
   "source": [
    "# Train / test split. 20% test size\n",
    "X_train, X_test, y_train, y_test = \\\n",
    "    train_test_split(X, y, test_size = 0.2,random_state=1)"
   ]
  },
  {
   "cell_type": "code",
   "execution_count": 36,
   "id": "f25fd41d-0f29-410b-9356-fa546900fbad",
   "metadata": {
    "scrolled": true
   },
   "outputs": [
    {
     "name": "stdout",
     "output_type": "stream",
     "text": [
      "[0.5     0.75    0.625   0.71875 0.625  ]\n"
     ]
    }
   ],
   "source": [
    "# Instanitate model. Max iterations at 1000\n",
    "logreg = LogisticRegression(max_iter=1000, random_state=1)\n",
    "\n",
    "# Fit model on 5 folds\n",
    "scores = cross_val_score(logreg, X_train, y_train, cv = 5)\n",
    "print(scores)"
   ]
  },
  {
   "cell_type": "code",
   "execution_count": 32,
   "id": "7cca6d31-ca24-4ed1-89ba-c6788b4d028a",
   "metadata": {},
   "outputs": [
    {
     "name": "stdout",
     "output_type": "stream",
     "text": [
      "Average Score: 0.64375\n"
     ]
    }
   ],
   "source": [
    "print(f'Average Score: {np.mean(scores)}')"
   ]
  },
  {
   "cell_type": "code",
   "execution_count": 35,
   "id": "c322048f-8d14-489b-913f-9fb72fbcaf8c",
   "metadata": {},
   "outputs": [
    {
     "data": {
      "image/png": "[encoded data removed]",
      "text/plain": [
       "<Figure size 640x480 with 1 Axes>"
      ]
     },
     "metadata": {},
     "output_type": "display_data"
    }
   ],
   "source": [
    "#Store the results\n",
    "cross_validation_scores = []\n",
    "\n",
    "C_range = np.array([.00000001,.0000001,.000001,.00001,.0001,.001,.1,\\\n",
    "                1,10,100,1000,10000,100000,1000000,10000000,100000000,1000000000])\n",
    "\n",
    "#Do some cross validation\n",
    "for c in C_range:\n",
    "    LR_model = LogisticRegression(C=c,random_state=1, max_iter=1000)\n",
    "    \n",
    "    # the cross validation score (mean of scores from all folds)\n",
    "    cv_score = np.mean(cross_val_score(LR_model, X_train, y_train, cv = 5))\n",
    "    \n",
    "    cross_validation_scores.append(cv_score)\n",
    "\n",
    "plt.figure()\n",
    "plt.plot(C_range, cross_validation_scores,label=\"Cross Validation Score\",marker='.')\n",
    "plt.legend()\n",
    "plt.xscale(\"log\")\n",
    "plt.xlabel('Regularization Parameter: C')\n",
    "plt.ylabel('Cross Validation Score')\n",
    "plt.grid()\n",
    "plt.show();"
   ]
  },
  {
   "cell_type": "markdown",
   "id": "92546f84-78ea-4138-b217-a3bf7363879e",
   "metadata": {},
   "source": [
    "We can observe the highest score occurs at C value of 10^0 (1). We will use this for our logistic regression (even though this is default value)"
   ]
  },
  {
   "cell_type": "code",
   "execution_count": 39,
   "id": "a106fd6e-a9d0-49c2-8848-5b4e757cf16b",
   "metadata": {},
   "outputs": [
    {
     "name": "stdout",
     "output_type": "stream",
     "text": [
      "Test accuracy: 0.775\n"
     ]
    }
   ],
   "source": [
    "X = df_final[[\"grip_l1\", \"avg_grip_strength\", \"grip_difference\", \\\n",
    "              \"has_near_fallen\", \"health_rating\", \"walking_difficulty\", \"age\"\n",
    "             ]]\n",
    "y = df_final[\"has_fallen\"]\n",
    "\n",
    "# Train and test split\n",
    "# Test size = 20% of total data\n",
    "X_train, X_test, y_train, y_test = train_test_split(X, \n",
    "                                                    y, \n",
    "                                                    test_size = 0.2, \n",
    "                                                    random_state = 42\n",
    ")\n",
    "\n",
    "# scaling the data\n",
    "scaler = StandardScaler()\n",
    "X_train = scaler.fit_transform(X_train)\n",
    "X_test = scaler.transform(X_test)\n",
    "\n",
    "# logistic regression model\n",
    "logreg = LogisticRegression(C=1) # instantiate. Inputing C=1 as our optimal regularization paramater \n",
    "logreg.fit(X_train, y_train)  # fit\n",
    "y_predict = logreg.predict(X_test) # test\n",
    "\n",
    "test_accuracy = accuracy_score(y_test, y_predict)\n",
    "\n",
    "print(f'Test accuracy: {test_accuracy}')"
   ]
  },
  {
   "cell_type": "code",
   "execution_count": 65,
   "id": "27cdba68-ce38-4ada-b440-2f0d2ab25b89",
   "metadata": {},
   "outputs": [
    {
     "data": {
      "image/png": "[encoded data removed]",
      "text/plain": [
       "<Figure size 640x480 with 2 Axes>"
      ]
     },
     "metadata": {},
     "output_type": "display_data"
    },
    {
     "name": "stdout",
     "output_type": "stream",
     "text": [
      "Classification Report:\n",
      "              precision    recall  f1-score   support\n",
      "\n",
      "           0       0.81      0.85      0.83        26\n",
      "           1       0.69      0.64      0.67        14\n",
      "\n",
      "    accuracy                           0.78        40\n",
      "   macro avg       0.75      0.74      0.75        40\n",
      "weighted avg       0.77      0.78      0.77        40\n",
      "\n"
     ]
    },
    {
     "data": {
      "text/plain": [
       "<Figure size 640x480 with 0 Axes>"
      ]
     },
     "metadata": {},
     "output_type": "display_data"
    }
   ],
   "source": [
    "# predicting y based on Logistic regression on X test\n",
    "y_pred_logreg = logreg.predict(X_test)\n",
    "\n",
    "# Confusion matrix\n",
    "cf_matrix = confusion_matrix(y_test, y_pred_logreg)\n",
    "ConfusionMatrixDisplay(cf_matrix).plot()\n",
    "plt.show()\n",
    "plt.savefig('logreg_model_eval.png')\n",
    "\n",
    "# Classification report\n",
    "print(\"Classification Report:\")\n",
    "print(classification_report(y_test, y_pred_logreg))"
   ]
  },
  {
   "cell_type": "markdown",
   "id": "a4194535-6516-47a3-aa97-c636e9d2daaf",
   "metadata": {},
   "source": [
    "Evaluating our logistic regression model, we can see a recall score of 64% and precision of 69%. Considering our use case of classifying whether a senior will fall or not, we will consider the model with the higher recall score since there is little \"consequence\" of mis-classifying someone as on a path to falling as opposed to the alternate. "
   ]
  },
  {
   "cell_type": "markdown",
   "id": "99925d8c-7cd4-4438-b146-92bd9e4a94a0",
   "metadata": {},
   "source": [
    "# Random Forest Classifier"
   ]
  },
  {
   "cell_type": "code",
   "execution_count": 59,
   "id": "a7409d38-16a2-4856-9cd0-167972fbcd48",
   "metadata": {},
   "outputs": [
    {
     "name": "stdout",
     "output_type": "stream",
     "text": [
      "Ideal parameters: {'max_depth': None, 'min_samples_leaf': 2, 'min_samples_split': 10, 'n_estimators': 30}\n",
      "Best cross-validated score: 0.6125\n"
     ]
    }
   ],
   "source": [
    "rfc = RandomForestClassifier(random_state=42)\n",
    "\n",
    "# listing out our paramaters we will attempt to optimize\n",
    "params = {\n",
    "    'max_depth': [None, 5, 10, 20, 30, 40, 50],\n",
    "    'min_samples_leaf': [1, 2, 4, 6, 8],\n",
    "    'min_samples_split': [2, 4, 6, 8, 10],\n",
    "    'n_estimators': [10, 20, 30, 40, 50]\n",
    "}\n",
    "\n",
    "# 5 fold grid search cross valildation\n",
    "grid_search = GridSearchCV(estimator=rfc, param_grid=params, cv=5,\n",
    "                           scoring='accuracy',\n",
    "                           n_jobs=-1\n",
    ")\n",
    "\n",
    "# Fitting on train data\n",
    "grid_search.fit(X_train, y_train)\n",
    "\n",
    "# Storing our best params and best score into variables\n",
    "best_params = grid_search.best_params_\n",
    "best_score = grid_search.best_score_\n",
    "\n",
    "print(f'Ideal parameters: {best_params}')\n",
    "print(f'Best cross-validated score: {best_score}')"
   ]
  },
  {
   "cell_type": "code",
   "execution_count": 63,
   "id": "b1bdf7c7-4268-4620-9138-e61eaca99c72",
   "metadata": {},
   "outputs": [
    {
     "name": "stdout",
     "output_type": "stream",
     "text": [
      "Accuracy: 0.75\n"
     ]
    }
   ],
   "source": [
    "# Using the best params from above. Instantiating random forest model on those paramaters\n",
    "rfc = RandomForestClassifier(n_estimators = 30, \n",
    "                              max_depth = None, \n",
    "                              min_samples_leaf = 2,\n",
    "                              min_samples_split = 10,\n",
    "                              random_state = 42\n",
    "                              )\n",
    "\n",
    "rfc.fit(X_train, y_train) # Fit on train data\n",
    "y_predict = rfc.predict(X_test) # Predict\n",
    "accuracy = accuracy_score(y_test, y_predict) \n",
    "print(f'Accuracy: {accuracy}')"
   ]
  },
  {
   "cell_type": "code",
   "execution_count": 66,
   "id": "e3101601-4d65-4c58-92e6-e7709f6f26d5",
   "metadata": {},
   "outputs": [
    {
     "data": {
      "image/png": "[encoded data removed]",
      "text/plain": [
       "<Figure size 640x480 with 2 Axes>"
      ]
     },
     "metadata": {},
     "output_type": "display_data"
    },
    {
     "name": "stdout",
     "output_type": "stream",
     "text": [
      "Classification Report:\n",
      "              precision    recall  f1-score   support\n",
      "\n",
      "           0       0.83      0.77      0.80        26\n",
      "           1       0.62      0.71      0.67        14\n",
      "\n",
      "    accuracy                           0.75        40\n",
      "   macro avg       0.73      0.74      0.73        40\n",
      "weighted avg       0.76      0.75      0.75        40\n",
      "\n"
     ]
    },
    {
     "data": {
      "text/plain": [
       "<Figure size 640x480 with 0 Axes>"
      ]
     },
     "metadata": {},
     "output_type": "display_data"
    }
   ],
   "source": [
    "# predicting y based on random forest classifier on X test\n",
    "y_pred_rfc = rfc.predict(X_test)\n",
    "\n",
    "# Confusion matrix\n",
    "cf_matrix = confusion_matrix(y_test, y_pred_rfc)\n",
    "ConfusionMatrixDisplay(cf_matrix).plot()\n",
    "plt.show()\n",
    "plt.savefig('rfc_model_eval.png')\n",
    "\n",
    "# Classification report\n",
    "print(\"Classification Report:\")\n",
    "print(classification_report(y_test, y_pred_rfc))"
   ]
  },
  {
   "cell_type": "markdown",
   "id": "74898a40-93d0-4d7d-bc4d-16c11b2ddd25",
   "metadata": {},
   "source": [
    "Our random forest classifier performed better than our logistic regression model in terms of recall with a score of 71%. In other words, of the 14 cases of \"falls\" in our test dataset, our model captured 10 cases correctly. We will explore if this can be improved."
   ]
  },
  {
   "cell_type": "markdown",
   "id": "788152f5-440b-4782-b223-f7cd1a2d1ca3",
   "metadata": {},
   "source": [
    "# AdaBoost Classifier"
   ]
  },
  {
   "cell_type": "code",
   "execution_count": 88,
   "id": "8fd5db85-175b-437f-9a65-41fd1fa075c1",
   "metadata": {},
   "outputs": [
    {
     "name": "stdout",
     "output_type": "stream",
     "text": [
      "              precision    recall  f1-score   support\n",
      "\n",
      "           0       0.91      0.81      0.86        26\n",
      "           1       0.71      0.86      0.77        14\n",
      "\n",
      "    accuracy                           0.82        40\n",
      "   macro avg       0.81      0.83      0.82        40\n",
      "weighted avg       0.84      0.82      0.83        40\n",
      "\n"
     ]
    }
   ],
   "source": [
    "# Instantiate Adaboost classifier on 19 estimators\n",
    "abc = AdaBoostClassifier(n_estimators=19)\n",
    "\n",
    "# Fitting on train dataset\n",
    "abc.fit(X_train, y_train)\n",
    "\n",
    "# Predict on test set\n",
    "y_pred_abc = abc.predict(X_test)\n",
    "print(classification_report(y_test, y_pred_abc))"
   ]
  },
  {
   "cell_type": "code",
   "execution_count": 89,
   "id": "65316add-42be-491d-9a91-2109f4ce15f2",
   "metadata": {},
   "outputs": [
    {
     "data": {
      "image/png": "[encoded data removed]",
      "text/plain": [
       "<Figure size 640x480 with 2 Axes>"
      ]
     },
     "metadata": {},
     "output_type": "display_data"
    },
    {
     "name": "stdout",
     "output_type": "stream",
     "text": [
      "Classification Report:\n",
      "              precision    recall  f1-score   support\n",
      "\n",
      "           0       0.91      0.81      0.86        26\n",
      "           1       0.71      0.86      0.77        14\n",
      "\n",
      "    accuracy                           0.82        40\n",
      "   macro avg       0.81      0.83      0.82        40\n",
      "weighted avg       0.84      0.82      0.83        40\n",
      "\n"
     ]
    }
   ],
   "source": [
    "# Confusion matrix\n",
    "cf_matrix = confusion_matrix(y_test, y_pred_abc)\n",
    "ConfusionMatrixDisplay(cf_matrix).plot()\n",
    "plt.show()\n",
    "\n",
    "# Classification report\n",
    "print(\"Classification Report:\")\n",
    "print(classification_report(y_test, y_pred_abc))"
   ]
  },
  {
   "cell_type": "markdown",
   "id": "cd3f39bb-ddd5-4420-88f6-bae09024507d",
   "metadata": {},
   "source": [
    "Our AdaBoost classifier performed the best in terms of recall score. It yielded a recall score of 86%. In other words, of the 14 cases of falls, our AdaBoost classifier was able to correctly classify 12 of them and only missing 2. "
   ]
  }
 ],
 "metadata": {
  "kernelspec": {
   "display_name": "Python 3 (ipykernel)",
   "language": "python",
   "name": "python3"
  },
  "language_info": {
   "codemirror_mode": {
    "name": "ipython",
    "version": 3
   },
   "file_extension": ".py",
   "mimetype": "text/x-python",
   "name": "python",
   "nbconvert_exporter": "python",
   "pygments_lexer": "ipython3",
   "version": "3.11.7"
  }
 },
 "nbformat": 4,
 "nbformat_minor": 5
}
