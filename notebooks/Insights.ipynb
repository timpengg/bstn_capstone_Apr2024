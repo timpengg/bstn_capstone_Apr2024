{
 "cells": [
  {
   "cell_type": "markdown",
   "id": "8883bbfb-8ca0-4063-ab3d-7e22b650a879",
   "metadata": {},
   "source": [
    "# General Insights\n",
    "This notebook will store additional insights and data visualization on our Wii balance board dataset. "
   ]
  },
  {
   "cell_type": "code",
   "execution_count": 135,
   "id": "a71c5420-9fcd-4c01-a7ff-509e80a71f3c",
   "metadata": {},
   "outputs": [],
   "source": [
    "import pandas as pd\n",
    "import numpy as np\n",
    "import matplotlib.pyplot as plt\n",
    "import seaborn as sns\n",
    "import statsmodels.api as sm\n",
    "# Stylesheet\n",
    "plt.style.use('seaborn-v0_8')"
   ]
  },
  {
   "cell_type": "code",
   "execution_count": 2,
   "id": "208a5a98-d0a4-48db-a0ff-acf4faff16ba",
   "metadata": {},
   "outputs": [],
   "source": [
    "df = pd.read_csv('Wii_final.csv')"
   ]
  },
  {
   "cell_type": "code",
   "execution_count": 4,
   "id": "8e1d7682-8dce-4ea3-94ed-32c68efd1fc5",
   "metadata": {},
   "outputs": [],
   "source": [
    "df = df.drop('Unnamed: 0', axis=1)"
   ]
  },
  {
   "cell_type": "code",
   "execution_count": 25,
   "id": "373860fe-d753-458c-8ca4-96694550512a",
   "metadata": {},
   "outputs": [
    {
     "name": "stdout",
     "output_type": "stream",
     "text": [
      "<class 'pandas.core.frame.DataFrame'>\n",
      "RangeIndex: 200 entries, 0 to 199\n",
      "Data columns (total 24 columns):\n",
      " #   Column                                        Non-Null Count  Dtype  \n",
      "---  ------                                        --------------  -----  \n",
      " 0   label                                         200 non-null    int64  \n",
      " 1   age                                           200 non-null    int64  \n",
      " 2   sex                                           200 non-null    int64  \n",
      " 3   grip_r1                                       200 non-null    float64\n",
      " 4   grip_l1                                       200 non-null    float64\n",
      " 5   health_rating                                 200 non-null    int64  \n",
      " 6   crouching_difficulty                          200 non-null    int64  \n",
      " 7   lifting_difficulty                            200 non-null    int64  \n",
      " 8   reaching_overhead_difficulty                  200 non-null    int64  \n",
      " 9   walking_difficulty                            200 non-null    int64  \n",
      " 10  difficult_short_walking                       200 non-null    int64  \n",
      " 11  difficult_light_housework                     200 non-null    int64  \n",
      " 12  difficult_bathing                             200 non-null    int64  \n",
      " 13  has_fallen                                    200 non-null    int64  \n",
      " 14  has_near_fallen                               200 non-null    int64  \n",
      " 15  near_fall_count                               200 non-null    int64  \n",
      " 16  trial_1_eyes_closed_feet_apart_velocity_0_1   200 non-null    float64\n",
      " 17  trial_1_eyes_closed_feet_apart_velocity_0_2   200 non-null    float64\n",
      " 18  trial_1_eyes_closed_feet_apart_velocity_0_3   200 non-null    float64\n",
      " 19  trial_2_eyes_open_feet_together_velocity_0_1  200 non-null    float64\n",
      " 20  trial_2_eyes_open_feet_together_velocity_0_2  200 non-null    float64\n",
      " 21  trial_2_eyes_open_feet_together_velocity_0_3  200 non-null    float64\n",
      " 22  avg_grip_strength                             200 non-null    float64\n",
      " 23  grip_difference                               200 non-null    float64\n",
      "dtypes: float64(10), int64(14)\n",
      "memory usage: 37.6 KB\n"
     ]
    }
   ],
   "source": [
    "df.info()"
   ]
  },
  {
   "cell_type": "code",
   "execution_count": 30,
   "id": "d6bd23df-4cb7-4663-bd9c-d56fc44866a4",
   "metadata": {},
   "outputs": [],
   "source": [
    "# defining the sigmoid curve manually\n",
    "def sigmoid_curve(x):\n",
    "    return 1 / (1 + np.exp(-x)) # exp(x) is the function to calculate e^x"
   ]
  },
  {
   "cell_type": "markdown",
   "id": "e4d8d3e8-6120-4b3b-9709-83f533bcffba",
   "metadata": {},
   "source": [
    "We will investigate the odds ratio between various independant variables and see how it affects the probability of falling"
   ]
  },
  {
   "cell_type": "markdown",
   "id": "c612c02b-e6d9-4f9f-b9df-6feb1bb2b3bc",
   "metadata": {},
   "source": [
    "# Ind. Variable - Age"
   ]
  },
  {
   "cell_type": "markdown",
   "id": "be70d18a-e50d-4013-87ba-1e38d6e09059",
   "metadata": {},
   "source": [
    "We will only focus on `age` as the only independant variable and calculate the log odds ratio. The log odds ratio will give insights as to how an increase in a unit or year of age will affect the odds of falling. "
   ]
  },
  {
   "cell_type": "code",
   "execution_count": 109,
   "id": "8187acc6-d7a6-4616-b656-598926f07aa0",
   "metadata": {},
   "outputs": [],
   "source": [
    "# Defining our X and y variables. We will only focus on age as an independant variable to calculate the log odds ratio\n",
    "X = df[\"age\"]\n",
    "y = df[\"has_fallen\"]\n",
    "\n",
    "X_with_constant = sm.add_constant(X)"
   ]
  },
  {
   "cell_type": "code",
   "execution_count": 110,
   "id": "82d72e2f-d799-4305-af7f-d91871a0d4c3",
   "metadata": {},
   "outputs": [
    {
     "name": "stdout",
     "output_type": "stream",
     "text": [
      "Optimization terminated successfully.\n",
      "         Current function value: 0.682879\n",
      "         Iterations 4\n"
     ]
    },
    {
     "data": {
      "text/html": [
       "<table class=\"simpletable\">\n",
       "<caption>Logit Regression Results</caption>\n",
       "<tr>\n",
       "  <th>Dep. Variable:</th>      <td>has_fallen</td>    <th>  No. Observations:  </th>  <td>   200</td>  \n",
       "</tr>\n",
       "<tr>\n",
       "  <th>Model:</th>                 <td>Logit</td>      <th>  Df Residuals:      </th>  <td>   198</td>  \n",
       "</tr>\n",
       "<tr>\n",
       "  <th>Method:</th>                 <td>MLE</td>       <th>  Df Model:          </th>  <td>     1</td>  \n",
       "</tr>\n",
       "<tr>\n",
       "  <th>Date:</th>            <td>Thu, 04 Jul 2024</td> <th>  Pseudo R-squ.:     </th> <td>0.0006386</td>\n",
       "</tr>\n",
       "<tr>\n",
       "  <th>Time:</th>                <td>16:55:12</td>     <th>  Log-Likelihood:    </th> <td> -136.58</td> \n",
       "</tr>\n",
       "<tr>\n",
       "  <th>converged:</th>             <td>True</td>       <th>  LL-Null:           </th> <td> -136.66</td> \n",
       "</tr>\n",
       "<tr>\n",
       "  <th>Covariance Type:</th>     <td>nonrobust</td>    <th>  LLR p-value:       </th>  <td>0.6761</td>  \n",
       "</tr>\n",
       "</table>\n",
       "<table class=\"simpletable\">\n",
       "<tr>\n",
       "    <td></td>       <th>coef</th>     <th>std err</th>      <th>z</th>      <th>P>|z|</th>  <th>[0.025</th>    <th>0.975]</th>  \n",
       "</tr>\n",
       "<tr>\n",
       "  <th>const</th> <td>   -0.9387</td> <td>    1.580</td> <td>   -0.594</td> <td> 0.552</td> <td>   -4.035</td> <td>    2.158</td>\n",
       "</tr>\n",
       "<tr>\n",
       "  <th>age</th>   <td>    0.0080</td> <td>    0.019</td> <td>    0.418</td> <td> 0.676</td> <td>   -0.029</td> <td>    0.045</td>\n",
       "</tr>\n",
       "</table>"
      ],
      "text/latex": [
       "\\begin{center}\n",
       "\\begin{tabular}{lclc}\n",
       "\\toprule\n",
       "\\textbf{Dep. Variable:}   &   has\\_fallen    & \\textbf{  No. Observations:  } &      200    \\\\\n",
       "\\textbf{Model:}           &      Logit       & \\textbf{  Df Residuals:      } &      198    \\\\\n",
       "\\textbf{Method:}          &       MLE        & \\textbf{  Df Model:          } &        1    \\\\\n",
       "\\textbf{Date:}            & Thu, 04 Jul 2024 & \\textbf{  Pseudo R-squ.:     } & 0.0006386   \\\\\n",
       "\\textbf{Time:}            &     16:55:12     & \\textbf{  Log-Likelihood:    } &   -136.58   \\\\\n",
       "\\textbf{converged:}       &       True       & \\textbf{  LL-Null:           } &   -136.66   \\\\\n",
       "\\textbf{Covariance Type:} &    nonrobust     & \\textbf{  LLR p-value:       } &   0.6761    \\\\\n",
       "\\bottomrule\n",
       "\\end{tabular}\n",
       "\\begin{tabular}{lcccccc}\n",
       "               & \\textbf{coef} & \\textbf{std err} & \\textbf{z} & \\textbf{P$> |$z$|$} & \\textbf{[0.025} & \\textbf{0.975]}  \\\\\n",
       "\\midrule\n",
       "\\textbf{const} &      -0.9387  &        1.580     &    -0.594  &         0.552        &       -4.035    &        2.158     \\\\\n",
       "\\textbf{age}   &       0.0080  &        0.019     &     0.418  &         0.676        &       -0.029    &        0.045     \\\\\n",
       "\\bottomrule\n",
       "\\end{tabular}\n",
       "%\\caption{Logit Regression Results}\n",
       "\\end{center}"
      ],
      "text/plain": [
       "<class 'statsmodels.iolib.summary.Summary'>\n",
       "\"\"\"\n",
       "                           Logit Regression Results                           \n",
       "==============================================================================\n",
       "Dep. Variable:             has_fallen   No. Observations:                  200\n",
       "Model:                          Logit   Df Residuals:                      198\n",
       "Method:                           MLE   Df Model:                            1\n",
       "Date:                Thu, 04 Jul 2024   Pseudo R-squ.:               0.0006386\n",
       "Time:                        16:55:12   Log-Likelihood:                -136.58\n",
       "converged:                       True   LL-Null:                       -136.66\n",
       "Covariance Type:            nonrobust   LLR p-value:                    0.6761\n",
       "==============================================================================\n",
       "                 coef    std err          z      P>|z|      [0.025      0.975]\n",
       "------------------------------------------------------------------------------\n",
       "const         -0.9387      1.580     -0.594      0.552      -4.035       2.158\n",
       "age            0.0080      0.019      0.418      0.676      -0.029       0.045\n",
       "==============================================================================\n",
       "\"\"\""
      ]
     },
     "execution_count": 110,
     "metadata": {},
     "output_type": "execute_result"
    }
   ],
   "source": [
    "logreg = sm.Logit(y, X_with_constant)\n",
    "logreg_results = logreg.fit()\n",
    "logreg_results.summary()"
   ]
  },
  {
   "cell_type": "code",
   "execution_count": 111,
   "id": "2c879432-65de-4dbf-b0dd-c56593d90f41",
   "metadata": {},
   "outputs": [
    {
     "data": {
      "text/plain": [
       "const   -0.938675\n",
       "age      0.007973\n",
       "dtype: float64"
      ]
     },
     "execution_count": 111,
     "metadata": {},
     "output_type": "execute_result"
    }
   ],
   "source": [
    "logreg_results.params"
   ]
  },
  {
   "cell_type": "code",
   "execution_count": 112,
   "id": "3b58ce08-8e00-4faa-afdf-b07a54b6bd70",
   "metadata": {},
   "outputs": [
    {
     "name": "stderr",
     "output_type": "stream",
     "text": [
      "/var/folders/by/q5q2nj6n61d2st534v09l74c0000gp/T/ipykernel_73114/2194655301.py:1: FutureWarning: Series.__getitem__ treating keys as positions is deprecated. In a future version, integer keys will always be treated as labels (consistent with DataFrame behavior). To access a value by position, use `ser.iloc[pos]`\n",
      "  beta0 = logreg_results.params[0]\n",
      "/var/folders/by/q5q2nj6n61d2st534v09l74c0000gp/T/ipykernel_73114/2194655301.py:2: FutureWarning: Series.__getitem__ treating keys as positions is deprecated. In a future version, integer keys will always be treated as labels (consistent with DataFrame behavior). To access a value by position, use `ser.iloc[pos]`\n",
      "  beta1 = logreg_results.params[1]\n"
     ]
    }
   ],
   "source": [
    "beta0 = logreg_results.params[0]\n",
    "beta1 = logreg_results.params[1]"
   ]
  },
  {
   "cell_type": "code",
   "execution_count": 113,
   "id": "3606f0a6-676c-4cae-8d0b-485b00964e8b",
   "metadata": {},
   "outputs": [
    {
     "data": {
      "text/plain": [
       "0.3911458443121404"
      ]
     },
     "execution_count": 113,
     "metadata": {},
     "output_type": "execute_result"
    }
   ],
   "source": [
    "np.exp(beta0)"
   ]
  },
  {
   "cell_type": "code",
   "execution_count": 114,
   "id": "4d1fd7b4-22ee-442f-b1db-686a25e843d2",
   "metadata": {},
   "outputs": [
    {
     "data": {
      "text/plain": [
       "1.0080048401608237"
      ]
     },
     "execution_count": 114,
     "metadata": {},
     "output_type": "execute_result"
    }
   ],
   "source": [
    "np.exp(beta1)"
   ]
  },
  {
   "cell_type": "code",
   "execution_count": 115,
   "id": "0466912b-9b41-49fd-9302-84d0af09eba9",
   "metadata": {
    "scrolled": true
   },
   "outputs": [
    {
     "name": "stdout",
     "output_type": "stream",
     "text": [
      "An 75 years of age, the \n",
      "Probability of falling is: 0.4156394487227844\n",
      "Odds ratio is: 0.7112722578797223\n",
      "\n",
      "An 76 years of age, the \n",
      "Probability of falling is: 0.4175772503658932\n",
      "Odds ratio is: 0.7169658991312172\n",
      "\n",
      "An 77 years of age, the \n",
      "Probability of falling is: 0.41951760054850273\n",
      "Odds ratio is: 0.7227051172350936\n",
      "\n",
      "An 78 years of age, the \n",
      "Probability of falling is: 0.42146044250860903\n",
      "Odds ratio is: 0.7284902770280849\n",
      "\n",
      "An 79 years of age, the \n",
      "Probability of falling is: 0.42340571917973185\n",
      "Odds ratio is: 0.7343217462673945\n",
      "\n",
      "An 80 years of age, the \n",
      "Probability of falling is: 0.42535337319731376\n",
      "Odds ratio is: 0.7401998956540737\n",
      "\n",
      "An 81 years of age, the \n",
      "Probability of falling is: 0.4273033469051967\n",
      "Odds ratio is: 0.7461250988565873\n",
      "\n",
      "An 82 years of age, the \n",
      "Probability of falling is: 0.42925558236217226\n",
      "Odds ratio is: 0.7520977325345671\n",
      "\n",
      "An 83 years of age, the \n",
      "Probability of falling is: 0.43121002134860603\n",
      "Odds ratio is: 0.7581181763627567\n",
      "\n",
      "An 84 years of age, the \n",
      "Probability of falling is: 0.4331666053731341\n",
      "Odds ratio is: 0.7641868130551452\n",
      "\n",
      "An 85 years of age, the \n",
      "Probability of falling is: 0.4351252756794293\n",
      "Odds ratio is: 0.7703040283892971\n",
      "\n",
      "An 86 years of age, the \n",
      "Probability of falling is: 0.43708597325303755\n",
      "Odds ratio is: 0.7764702112308771\n",
      "\n",
      "An 87 years of age, the \n",
      "Probability of falling is: 0.43904863882827977\n",
      "Odds ratio is: 0.7826857535583673\n",
      "\n",
      "An 88 years of age, the \n",
      "Probability of falling is: 0.4410132128952203\n",
      "Odds ratio is: 0.7889510504879862\n",
      "\n",
      "An 89 years of age, the \n",
      "Probability of falling is: 0.4429796357066995\n",
      "Odds ratio is: 0.7952665002988067\n",
      "\n",
      "An 90 years of age, the \n",
      "Probability of falling is: 0.4449478472854275\n",
      "Odds ratio is: 0.8016325044580731\n",
      "\n",
      "An 91 years of age, the \n",
      "Probability of falling is: 0.4469177874311392\n",
      "Odds ratio is: 0.8080494676467221\n",
      "\n",
      "An 92 years of age, the \n",
      "Probability of falling is: 0.4488893957278071\n",
      "Odds ratio is: 0.8145177977851087\n",
      "\n",
      "An 93 years of age, the \n",
      "Probability of falling is: 0.45086261155091206\n",
      "Odds ratio is: 0.8210379060589366\n",
      "\n",
      "An 94 years of age, the \n",
      "Probability of falling is: 0.4528373740747682\n",
      "Odds ratio is: 0.8276102069453976\n",
      "\n",
      "An 95 years of age, the \n",
      "Probability of falling is: 0.4548136222799013\n",
      "Odds ratio is: 0.8342351182395185\n",
      "\n",
      "An 96 years of age, the \n",
      "Probability of falling is: 0.4567912949604785\n",
      "Odds ratio is: 0.8409130610807208\n",
      "\n",
      "An 97 years of age, the \n",
      "Probability of falling is: 0.45877033073178763\n",
      "Odds ratio is: 0.847644459979593\n",
      "\n",
      "An 98 years of age, the \n",
      "Probability of falling is: 0.46075066803776354\n",
      "Odds ratio is: 0.8544297428448735\n",
      "\n",
      "An 99 years of age, the \n",
      "Probability of falling is: 0.4627322451585607\n",
      "Odds ratio is: 0.8612693410106552\n",
      "\n"
     ]
    }
   ],
   "source": [
    "age_range = list(range(75,100)) # participants are aged 75-100 in the dataset\n",
    "probability_of_falling_age = [] # placeholder array\n",
    "\n",
    "for age in age_range:\n",
    "    linear_combination = 0.007973*age - 0.938675 # plug in the parameters in our regression equation\n",
    "    probability_of_fall = sigmoid_curve(linear_combination) # pass this into the sigmoid curve function. gives us p\n",
    "    probability_of_not_fall = 1 - probability_of_fall\n",
    "    odds_ratio = probability_of_fall/probability_of_not_fall\n",
    "    probability_of_falling_age.append(probability_of_fall)\n",
    "    \n",
    "\n",
    "    print(f'An {age} years of age, the ')\n",
    "    print(f'Probability of falling is: {probability_of_fall}')\n",
    "    print(f'Odds ratio is: {odds_ratio}')\n",
    "    print('')"
   ]
  },
  {
   "cell_type": "code",
   "execution_count": 136,
   "id": "0675b513-3858-4aa4-9258-d0f98441f29a",
   "metadata": {},
   "outputs": [
    {
     "data": {
      "image/png": "[encoded data removed]",
      "text/plain": [
       "<Figure size 800x550 with 1 Axes>"
      ]
     },
     "metadata": {},
     "output_type": "display_data"
    }
   ],
   "source": [
    "plt.figure()\n",
    "plt.plot(age_range, probability_of_falling_age)\n",
    "plt.ylim(0.2, 0.8)\n",
    "plt.xlabel('Age')\n",
    "plt.ylabel('Probability of Falling')\n",
    "plt.title('Probability of Falling vs. Age')\n",
    "plt.savefig('Probability_falling_age.png')\n",
    "plt.show()"
   ]
  },
  {
   "cell_type": "code",
   "execution_count": null,
   "id": "c3f2cdd9-6b94-48a2-84e3-82712c9d82e1",
   "metadata": {},
   "outputs": [],
   "source": []
  },
  {
   "cell_type": "markdown",
   "id": "04b79706-92f3-444e-8ee0-c0aba633291a",
   "metadata": {},
   "source": [
    "# Ind. Variable - Avg grip strength"
   ]
  },
  {
   "cell_type": "code",
   "execution_count": 77,
   "id": "fef50faf-f80d-45e1-8fa9-2fb9eaf86990",
   "metadata": {},
   "outputs": [],
   "source": [
    "X = df[\"avg_grip_strength\"]\n",
    "y = df[\"has_fallen\"]\n",
    "\n",
    "X_with_constant = sm.add_constant(X)"
   ]
  },
  {
   "cell_type": "code",
   "execution_count": 78,
   "id": "3d8801b8-c1dc-4cad-865b-f0a7eaf60f7c",
   "metadata": {},
   "outputs": [
    {
     "name": "stdout",
     "output_type": "stream",
     "text": [
      "Optimization terminated successfully.\n",
      "         Current function value: 0.665040\n",
      "         Iterations 5\n"
     ]
    },
    {
     "data": {
      "text/html": [
       "<table class=\"simpletable\">\n",
       "<caption>Logit Regression Results</caption>\n",
       "<tr>\n",
       "  <th>Dep. Variable:</th>      <td>has_fallen</td>    <th>  No. Observations:  </th>  <td>   200</td> \n",
       "</tr>\n",
       "<tr>\n",
       "  <th>Model:</th>                 <td>Logit</td>      <th>  Df Residuals:      </th>  <td>   198</td> \n",
       "</tr>\n",
       "<tr>\n",
       "  <th>Method:</th>                 <td>MLE</td>       <th>  Df Model:          </th>  <td>     1</td> \n",
       "</tr>\n",
       "<tr>\n",
       "  <th>Date:</th>            <td>Thu, 04 Jul 2024</td> <th>  Pseudo R-squ.:     </th>  <td>0.02674</td>\n",
       "</tr>\n",
       "<tr>\n",
       "  <th>Time:</th>                <td>15:00:55</td>     <th>  Log-Likelihood:    </th> <td> -133.01</td>\n",
       "</tr>\n",
       "<tr>\n",
       "  <th>converged:</th>             <td>True</td>       <th>  LL-Null:           </th> <td> -136.66</td>\n",
       "</tr>\n",
       "<tr>\n",
       "  <th>Covariance Type:</th>     <td>nonrobust</td>    <th>  LLR p-value:       </th> <td>0.006858</td>\n",
       "</tr>\n",
       "</table>\n",
       "<table class=\"simpletable\">\n",
       "<tr>\n",
       "          <td></td>             <th>coef</th>     <th>std err</th>      <th>z</th>      <th>P>|z|</th>  <th>[0.025</th>    <th>0.975]</th>  \n",
       "</tr>\n",
       "<tr>\n",
       "  <th>const</th>             <td>    0.6516</td> <td>    0.380</td> <td>    1.714</td> <td> 0.086</td> <td>   -0.093</td> <td>    1.397</td>\n",
       "</tr>\n",
       "<tr>\n",
       "  <th>avg_grip_strength</th> <td>   -0.0464</td> <td>    0.018</td> <td>   -2.610</td> <td> 0.009</td> <td>   -0.081</td> <td>   -0.012</td>\n",
       "</tr>\n",
       "</table>"
      ],
      "text/latex": [
       "\\begin{center}\n",
       "\\begin{tabular}{lclc}\n",
       "\\toprule\n",
       "\\textbf{Dep. Variable:}      &   has\\_fallen    & \\textbf{  No. Observations:  } &      200    \\\\\n",
       "\\textbf{Model:}              &      Logit       & \\textbf{  Df Residuals:      } &      198    \\\\\n",
       "\\textbf{Method:}             &       MLE        & \\textbf{  Df Model:          } &        1    \\\\\n",
       "\\textbf{Date:}               & Thu, 04 Jul 2024 & \\textbf{  Pseudo R-squ.:     } &  0.02674    \\\\\n",
       "\\textbf{Time:}               &     15:00:55     & \\textbf{  Log-Likelihood:    } &   -133.01   \\\\\n",
       "\\textbf{converged:}          &       True       & \\textbf{  LL-Null:           } &   -136.66   \\\\\n",
       "\\textbf{Covariance Type:}    &    nonrobust     & \\textbf{  LLR p-value:       } &  0.006858   \\\\\n",
       "\\bottomrule\n",
       "\\end{tabular}\n",
       "\\begin{tabular}{lcccccc}\n",
       "                             & \\textbf{coef} & \\textbf{std err} & \\textbf{z} & \\textbf{P$> |$z$|$} & \\textbf{[0.025} & \\textbf{0.975]}  \\\\\n",
       "\\midrule\n",
       "\\textbf{const}               &       0.6516  &        0.380     &     1.714  &         0.086        &       -0.093    &        1.397     \\\\\n",
       "\\textbf{avg\\_grip\\_strength} &      -0.0464  &        0.018     &    -2.610  &         0.009        &       -0.081    &       -0.012     \\\\\n",
       "\\bottomrule\n",
       "\\end{tabular}\n",
       "%\\caption{Logit Regression Results}\n",
       "\\end{center}"
      ],
      "text/plain": [
       "<class 'statsmodels.iolib.summary.Summary'>\n",
       "\"\"\"\n",
       "                           Logit Regression Results                           \n",
       "==============================================================================\n",
       "Dep. Variable:             has_fallen   No. Observations:                  200\n",
       "Model:                          Logit   Df Residuals:                      198\n",
       "Method:                           MLE   Df Model:                            1\n",
       "Date:                Thu, 04 Jul 2024   Pseudo R-squ.:                 0.02674\n",
       "Time:                        15:00:55   Log-Likelihood:                -133.01\n",
       "converged:                       True   LL-Null:                       -136.66\n",
       "Covariance Type:            nonrobust   LLR p-value:                  0.006858\n",
       "=====================================================================================\n",
       "                        coef    std err          z      P>|z|      [0.025      0.975]\n",
       "-------------------------------------------------------------------------------------\n",
       "const                 0.6516      0.380      1.714      0.086      -0.093       1.397\n",
       "avg_grip_strength    -0.0464      0.018     -2.610      0.009      -0.081      -0.012\n",
       "=====================================================================================\n",
       "\"\"\""
      ]
     },
     "execution_count": 78,
     "metadata": {},
     "output_type": "execute_result"
    }
   ],
   "source": [
    "logreg = sm.Logit(y, X_with_constant)\n",
    "logreg_results = logreg.fit()\n",
    "logreg_results.summary()"
   ]
  },
  {
   "cell_type": "code",
   "execution_count": 79,
   "id": "5b04df07-1eda-4284-a917-0baa625fe7aa",
   "metadata": {},
   "outputs": [
    {
     "data": {
      "text/plain": [
       "const                0.651572\n",
       "avg_grip_strength   -0.046364\n",
       "dtype: float64"
      ]
     },
     "execution_count": 79,
     "metadata": {},
     "output_type": "execute_result"
    }
   ],
   "source": [
    "logreg_results.params"
   ]
  },
  {
   "cell_type": "code",
   "execution_count": 80,
   "id": "db60afde-6371-40e3-8fc6-88561014d23b",
   "metadata": {},
   "outputs": [
    {
     "name": "stderr",
     "output_type": "stream",
     "text": [
      "/var/folders/by/q5q2nj6n61d2st534v09l74c0000gp/T/ipykernel_73114/2194655301.py:1: FutureWarning: Series.__getitem__ treating keys as positions is deprecated. In a future version, integer keys will always be treated as labels (consistent with DataFrame behavior). To access a value by position, use `ser.iloc[pos]`\n",
      "  beta0 = logreg_results.params[0]\n",
      "/var/folders/by/q5q2nj6n61d2st534v09l74c0000gp/T/ipykernel_73114/2194655301.py:2: FutureWarning: Series.__getitem__ treating keys as positions is deprecated. In a future version, integer keys will always be treated as labels (consistent with DataFrame behavior). To access a value by position, use `ser.iloc[pos]`\n",
      "  beta1 = logreg_results.params[1]\n"
     ]
    }
   ],
   "source": [
    "beta0 = logreg_results.params[0]\n",
    "beta1 = logreg_results.params[1]"
   ]
  },
  {
   "cell_type": "code",
   "execution_count": 82,
   "id": "0dc51eb7-1489-413b-85c8-5ca1826eefed",
   "metadata": {},
   "outputs": [
    {
     "data": {
      "text/plain": [
       "0.9546940095776347"
      ]
     },
     "execution_count": 82,
     "metadata": {},
     "output_type": "execute_result"
    }
   ],
   "source": [
    "np.exp(beta1)"
   ]
  },
  {
   "cell_type": "markdown",
   "id": "fafac295-09b4-4fd1-9c58-7aee7decf970",
   "metadata": {},
   "source": [
    "Odds ratio: 0.95\n",
    "\n",
    "For every one unit increase in average grip strength, the odds of a senior falling decreases by a factor 0.05"
   ]
  },
  {
   "cell_type": "code",
   "execution_count": 94,
   "id": "be613514-9a1a-4e9b-8ed2-1225e469fcb0",
   "metadata": {},
   "outputs": [
    {
     "name": "stdout",
     "output_type": "stream",
     "text": [
      "At grip strength of: 0\n",
      "Probability of fall is: 0.6573646217942221\n",
      "Odds ratio is: 1.9185544272647348\n",
      "\n",
      "At grip strength of: 1\n",
      "Probability of fall is: 0.6468469086941193\n",
      "Odds ratio is: 1.831633148961616\n",
      "\n",
      "At grip strength of: 2\n",
      "Probability of fall is: 0.6361850220191441\n",
      "Odds ratio is: 1.7486498921784916\n",
      "\n",
      "At grip strength of: 3\n",
      "Probability of fall is: 0.625387664173628\n",
      "Odds ratio is: 1.6694262424489064\n",
      "\n",
      "At grip strength of: 4\n",
      "Probability of fall is: 0.6144640546718161\n",
      "Odds ratio is: 1.5937918684826111\n",
      "\n",
      "At grip strength of: 5\n",
      "Probability of fall is: 0.6034239041201751\n",
      "Odds ratio is: 1.5215841559523335\n",
      "\n",
      "At grip strength of: 6\n",
      "Probability of fall is: 0.5922773843010595\n",
      "Odds ratio is: 1.452647857872061\n",
      "\n",
      "At grip strength of: 7\n",
      "Probability of fall is: 0.5810350945037862\n",
      "Odds ratio is: 1.3868347608151563\n",
      "\n",
      "At grip strength of: 8\n",
      "Probability of fall is: 0.5697080242996426\n",
      "Odds ratio is: 1.3240033662546626\n",
      "\n",
      "At grip strength of: 9\n",
      "Probability of fall is: 0.558307513006641\n",
      "Odds ratio is: 1.2640185863406717\n",
      "\n",
      "At grip strength of: 10\n",
      "Probability of fall is: 0.5468452061369357\n",
      "Odds ratio is: 1.2067514534606976\n",
      "\n",
      "At grip strength of: 11\n",
      "Probability of fall is: 0.5353330091637146\n",
      "Odds ratio is: 1.152078842958584\n",
      "\n",
      "At grip strength of: 12\n",
      "Probability of fall is: 0.5237830389841444\n",
      "Odds ratio is: 1.0998832084158066\n",
      "\n",
      "At grip strength of: 13\n",
      "Probability of fall is: 0.512207573489657\n",
      "Odds ratio is: 1.0500523289260133\n",
      "\n",
      "At grip strength of: 14\n",
      "Probability of fall is: 0.5006189996837647\n",
      "Odds ratio is: 1.0024790678194513\n",
      "\n",
      "At grip strength of: 15\n",
      "Probability of fall is: 0.4890297608099746\n",
      "Odds ratio is: 0.957061142318523\n",
      "\n",
      "At grip strength of: 16\n",
      "Probability of fall is: 0.47745230296774893\n",
      "Odds ratio is: 0.9137009036292453\n",
      "\n",
      "At grip strength of: 17\n",
      "Probability of fall is: 0.46589902170243536\n",
      "Odds ratio is: 0.8723051269957948\n",
      "\n",
      "At grip strength of: 18\n",
      "Probability of fall is: 0.45438220905550114\n",
      "Odds ratio is: 0.8327848112667603\n",
      "\n",
      "At grip strength of: 19\n",
      "Probability of fall is: 0.4429140015542243\n",
      "Odds ratio is: 0.7950549875421714\n",
      "\n",
      "At grip strength of: 20\n",
      "Probability of fall is: 0.4315063296053994\n",
      "Odds ratio is: 0.7590345364898855\n",
      "\n",
      "At grip strength of: 21\n",
      "Probability of fall is: 0.42017086873595505\n",
      "Odds ratio is: 0.7246460139385718\n",
      "\n",
      "At grip strength of: 22\n",
      "Probability of fall is: 0.4089189930951504\n",
      "Odds ratio is: 0.6918154843723087\n",
      "\n",
      "At grip strength of: 23\n",
      "Probability of fall is: 0.39776173159888834\n",
      "Odds ratio is: 0.66047236196881\n",
      "\n",
      "At grip strength of: 24\n",
      "Probability of fall is: 0.38670972705742457\n",
      "Odds ratio is: 0.6305492588395146\n",
      "\n",
      "At grip strength of: 25\n",
      "Probability of fall is: 0.37577319858424\n",
      "Odds ratio is: 0.6019818401452457\n",
      "\n",
      "At grip strength of: 26\n",
      "Probability of fall is: 0.36496190753704855\n",
      "Odds ratio is: 0.5747086857759491\n",
      "\n",
      "At grip strength of: 27\n",
      "Probability of fall is: 0.354285127192799\n",
      "Odds ratio is: 0.5486711582971114\n",
      "\n",
      "At grip strength of: 28\n",
      "Probability of fall is: 0.34375161630814455\n",
      "Odds ratio is: 0.5238132768789489\n",
      "\n",
      "At grip strength of: 29\n",
      "Probability of fall is: 0.33336959666615257\n",
      "Odds ratio is: 0.5000815969373086\n",
      "\n",
      "At grip strength of: 30\n",
      "Probability of fall is: 0.3231467346600026\n",
      "Odds ratio is: 0.47742509522751475\n",
      "\n",
      "At grip strength of: 31\n",
      "Probability of fall is: 0.3130901269159331\n",
      "Odds ratio is: 0.4557950601441068\n",
      "\n",
      "At grip strength of: 32\n",
      "Probability of fall is: 0.30320628991157145\n",
      "Odds ratio is: 0.4351449869906148\n",
      "\n",
      "At grip strength of: 33\n",
      "Probability of fall is: 0.2935011535027181\n",
      "Odds ratio is: 0.4154304779942019\n",
      "\n",
      "At grip strength of: 34\n",
      "Probability of fall is: 0.28398005823224326\n",
      "Odds ratio is: 0.3966091468502047\n",
      "\n",
      "At grip strength of: 35\n",
      "Probability of fall is: 0.27464775625947474\n",
      "Odds ratio is: 0.37864052759134\n",
      "\n",
      "At grip strength of: 36\n",
      "Probability of fall is: 0.2655084157176529\n",
      "Odds ratio is: 0.3614859875856499\n",
      "\n",
      "At grip strength of: 37\n",
      "Probability of fall is: 0.2565656282809292\n",
      "Odds ratio is: 0.34510864447612644\n",
      "\n",
      "At grip strength of: 38\n",
      "Probability of fall is: 0.24782241970110677\n",
      "Odds ratio is: 0.3294732868834371\n",
      "\n",
      "At grip strength of: 39\n",
      "Probability of fall is: 0.23928126305785222\n",
      "Odds ratio is: 0.3145462987012629\n",
      "\n",
      "At grip strength of: 40\n",
      "Probability of fall is: 0.23094409445435532\n",
      "Odds ratio is: 0.3002955868214816\n",
      "\n"
     ]
    }
   ],
   "source": [
    "grip_range = list(range(0,41))\n",
    "probability_of_falling_grip = []\n",
    "\n",
    "for grip in grip_range:\n",
    "    linear_combination = -0.046364*grip + 0.651572\n",
    "    probability_of_fall = sigmoid_curve(linear_combination)\n",
    "    probability_of_no_fall = 1 - probability_of_fall\n",
    "    odds_ratio = probability_of_fall/probability_of_no_fall\n",
    "    probability_of_falling_grip.append(probability_of_fall)\n",
    "\n",
    "    print(f'At grip strength of: {grip}')\n",
    "    print(f'Probability of fall is: {probability_of_fall}')\n",
    "    print(f'Odds ratio is: {odds_ratio}')\n",
    "    print('')"
   ]
  },
  {
   "cell_type": "code",
   "execution_count": 129,
   "id": "f3447715-edd6-48e0-99af-620e09e5d61f",
   "metadata": {},
   "outputs": [
    {
     "data": {
      "image/png": "[encoded data removed]",
      "text/plain": [
       "<Figure size 800x550 with 1 Axes>"
      ]
     },
     "metadata": {},
     "output_type": "display_data"
    }
   ],
   "source": [
    "plt.figure\n",
    "plt.plot(grip_range, probability_of_falling_grip)\n",
    "plt.ylim(0.2, 0.8)\n",
    "plt.xlabel('Average Grip Strength')\n",
    "plt.ylabel('Probability of Falling')\n",
    "plt.title('Probability of Falling vs Avg. Grip Strength')\n",
    "plt.savefig('Probability_falling_avggrip.png')\n",
    "plt.show()"
   ]
  },
  {
   "cell_type": "code",
   "execution_count": null,
   "id": "cfea0e89-6a60-4960-b595-832c5885d54b",
   "metadata": {},
   "outputs": [],
   "source": []
  },
  {
   "cell_type": "code",
   "execution_count": null,
   "id": "47579768-43b2-4bfa-aad1-409c47f50c63",
   "metadata": {},
   "outputs": [],
   "source": []
  }
 ],
 "metadata": {
  "kernelspec": {
   "display_name": "Python 3 (ipykernel)",
   "language": "python",
   "name": "python3"
  },
  "language_info": {
   "codemirror_mode": {
    "name": "ipython",
    "version": 3
   },
   "file_extension": ".py",
   "mimetype": "text/x-python",
   "name": "python",
   "nbconvert_exporter": "python",
   "pygments_lexer": "ipython3",
   "version": "3.11.7"
  }
 },
 "nbformat": 4,
 "nbformat_minor": 5
}
